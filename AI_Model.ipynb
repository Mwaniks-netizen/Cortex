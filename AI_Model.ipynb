{
 "cells": [
  {
   "cell_type": "code",
   "execution_count": null,
   "id": "59f04641-13b2-4d31-8c0b-2d9bbc44ea47",
   "metadata": {},
   "outputs": [],
   "source": [
    "#A seizure forescasting system using physiological data\n",
    "#Data preprocessing\n",
    "import pandas as pd\n",
    "import numpy as np\n",
    "\n",
    "# Data segmentation (assuming sensor data is in a DataFrame 'df')\n",
    "window_size = 30  # 30 seconds window\n",
    "step_size = 5  # 5 seconds step\n",
    "\n",
    "def segment_data(df, window_size, step_size):\n",
    "    segments = []\n",
    "    for i in range(0, len(df) - window_size, step_size):\n",
    "        segments.append(df.iloc[i:i + window_size])\n",
    "    return segments\n",
    "\n",
    "# Usage:\n",
    "segments = segment_data(df, window_size, step_size)\n"
   ]
  },
  {
   "cell_type": "code",
   "execution_count": null,
   "id": "e50d4f68-028a-498f-ae7f-26d83ba741b8",
   "metadata": {},
   "outputs": [],
   "source": [
    "#Extracting useful features like mean, standard deviation from the raw sensor data\n",
    "from scipy.stats import skew, kurtosis\n",
    "from numpy.fft import fft\n",
    "\n",
    "def extract_features(window_data):\n",
    "    features = {}\n",
    "    features['mean'] = np.mean(window_data)\n",
    "    features['std'] = np.std(window_data)\n",
    "    features['skew'] = skew(window_data)\n",
    "    features['kurtosis'] = kurtosis(window_data)\n",
    "    \n",
    "    # Frequency domain features using FFT to capture periodicity\n",
    "    fft_vals = fft(window_data)\n",
    "    features['fft_mean'] = np.mean(np.abs(fft_vals))\n",
    "    features['fft_std'] = np.std(np.abs(fft_vals))\n",
    "    \n",
    "    return features\n",
    "\n",
    "# Feature extraction\n",
    "window_data = segments[0]  # Window data\n",
    "features = extract_features(window_data['sensor_signal'].values)"
   ]
  },
  {
   "cell_type": "code",
   "execution_count": null,
   "id": "49d70299-9ad8-42eb-9cfc-4a54f1618f40",
   "metadata": {},
   "outputs": [],
   "source": [
    "#Constructing an LSTM network with multiple layers to learn temporal patterns in the data\n",
    "import tensorflow as tf\n",
    "from tensorflow.keras.models import Sequential\n",
    "from tensorflow.keras.layers import LSTM, Dense, Dropout\n",
    "#After feature extraction, preparing data for training\n",
    "def build_lstm_model(input_shape):\n",
    "    model = Sequential()\n",
    "    model.add(LSTM(64, activation='relu', input_shape=input_shape, return_sequences=True))\n",
    "    model.add(Dropout(0.2))\n",
    "    model.add(LSTM(64, activation='relu'))\n",
    "    model.add(Dropout(0.2))\n",
    "    model.add(Dense(1, activation='sigmoid'))  # Output probability of seizure\n",
    "    \n",
    "    model.compile(optimizer='adam', loss='binary_crossentropy', metrics=['accuracy'])\n",
    "    return model\n",
    "\n",
    "# Usage:\n",
    "input_shape = (time_steps, num_features)  # Define based on  data\n",
    "model = build_lstm_model(input_shape)\n",
    "model.summary()"
   ]
  },
  {
   "cell_type": "code",
   "execution_count": null,
   "id": "017b501b-c88f-4916-889b-ce19f265924b",
   "metadata": {},
   "outputs": [],
   "source": [
    "#Training the LSTM Model using the labelled data\n",
    "history = model.fit(X_train, y_train, epochs=20, batch_size=64, validation_data=(X_val, y_val))\n"
   ]
  },
  {
   "cell_type": "code",
   "execution_count": null,
   "id": "5fe57cba-2f34-4542-8d03-29faa929ed53",
   "metadata": {},
   "outputs": [],
   "source": [
    "#Generate random baseline to evaluate the model\n",
    "random_preds = np.random.randint(0, 2, size=y_test.shape)\n",
    "\n",
    "# Evaluate performance\n",
    "accuracy = accuracy_score(y_test, random_preds)\n",
    "precision = precision_score(y_test, random_preds)\n",
    "recall = recall_score(y_test, random_preds)\n",
    "f1 = f1_score(y_test, random_preds)\n",
    "\n",
    "print(f\"Accuracy: {accuracy}\")\n",
    "print(f\"Precision: {precision}\")\n",
    "print(f\"Recall: {recall}\")\n",
    "print(f\"F1 Score: {f1}\")\n"
   ]
  }
 ],
 "metadata": {
  "kernelspec": {
   "display_name": "Python 3 (ipykernel)",
   "language": "python",
   "name": "python3"
  },
  "language_info": {
   "codemirror_mode": {
    "name": "ipython",
    "version": 3
   },
   "file_extension": ".py",
   "mimetype": "text/x-python",
   "name": "python",
   "nbconvert_exporter": "python",
   "pygments_lexer": "ipython3",
   "version": "3.12.7"
  }
 },
 "nbformat": 4,
 "nbformat_minor": 5
}
